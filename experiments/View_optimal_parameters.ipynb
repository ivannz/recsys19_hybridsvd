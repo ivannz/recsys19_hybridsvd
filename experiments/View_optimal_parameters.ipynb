{
 "cells": [
  {
   "cell_type": "code",
   "execution_count": 1,
   "metadata": {},
   "outputs": [
    {
     "name": "stderr",
     "output_type": "stream",
     "text": [
      "Use token from .telepythrc.\n"
     ]
    }
   ],
   "source": [
    "import matplotlib as mpl\n",
    "import pandas as pd\n",
    "from pandas.plotting import parallel_coordinates\n",
    "\n",
    "from utils import read_config\n",
    "%matplotlib inline"
   ]
  },
  {
   "cell_type": "code",
   "execution_count": 2,
   "metadata": {},
   "outputs": [],
   "source": [
    "colors = [c['color'] for c in mpl.rcParams['axes.prop_cycle']]"
   ]
  },
  {
   "cell_type": "code",
   "execution_count": 3,
   "metadata": {},
   "outputs": [],
   "source": [
    "models = ['baseline', 'scaledsvd', 'hybridsvd', 'scaledhybridsvd', 'lce_rank', 'fm_rank', 'sgd_rank']\n",
    "cs_models = ['baseline_coldstart', 'scaledsvd_coldstart', 'hybridsvd_coldstart', 'scaledhybridsvd_coldstart', 'lce_coldstart_rank', 'fm_coldstart_rank']\n",
    "data_labels = ['ML1M', 'ML10M', 'BX', 'AMZvg', 'AMZe', 'YaMus']"
   ]
  },
  {
   "cell_type": "markdown",
   "metadata": {},
   "source": [
    "# Standard case"
   ]
  },
  {
   "cell_type": "code",
   "execution_count": 36,
   "metadata": {},
   "outputs": [
    {
     "name": "stdout",
     "output_type": "stream",
     "text": [
      "ML1M\n",
      "\t {'PureSVD': {'rank': 30}}\n",
      "\t {'PureSVDs': {'col_scaling': 0.4, 'rank': 75}}\n",
      "\t {'HybridSVD': {'features_weight': 0.9, 'rank': 50}}\n",
      "\t {'HybridSVDs': {'col_scaling': 0.4, 'features_weight': 0.7, 'rank': 100}}\n",
      "\t {'LCE': {'alpha': 0.1, 'beta': 0.1, 'rank': 150}}\n",
      "\t {'FM': {'regularization': 3e-08, 'linear_regularization': 1e-10, 'rank': 750}}\n",
      "\t {'SGD': {'regularization': 3e-06, 'linear_regularization': 1e-10, 'rank': 1000}}\n",
      "ML10M\n",
      "\t {'PureSVD': {'rank': 30}}\n",
      "\t {'PureSVDs': {'col_scaling': 0.2, 'rank': 1000}}\n",
      "\t {'HybridSVD': {'features_weight': 0.1, 'rank': 30}}\n",
      "\t {'HybridSVDs': {'col_scaling': 0.2, 'features_weight': 0.1, 'rank': 1000}}\n",
      "\t {'LCE': {'alpha': 0.3, 'beta': 0.1, 'rank': 1000}}\n",
      "\t {'FM': {'regularization': 1e-06, 'linear_regularization': 3e-07, 'rank': 750}}\n",
      "\t {'SGD': {'regularization': 1e-06, 'linear_regularization': 1e-07, 'rank': 750}}\n",
      "BX\n",
      "\t {'PureSVD': {'rank': 1250}}\n",
      "\t {'PureSVDs': {'col_scaling': 0.4, 'rank': 1000}}\n",
      "\t {'HybridSVD': {'features_weight': 0.3, 'rank': 1250}}\n",
      "\t {'HybridSVDs': {'col_scaling': 0.4, 'features_weight': 0.5, 'rank': 1750}}\n",
      "\t {'LCE': {'alpha': 0.1, 'beta': 0.0, 'rank': 1500}}\n",
      "\t {'FM': {'regularization': 1e-06, 'linear_regularization': 3e-08, 'rank': 750}}\n",
      "\t {'SGD': {'regularization': 3e-06, 'linear_regularization': 1e-08, 'rank': 1500}}\n",
      "AMZvg\n",
      "\t {'PureSVD': {'rank': 150}}\n",
      "\t {'PureSVDs': {'col_scaling': 0.4, 'rank': 300}}\n",
      "\t {'HybridSVD': {'features_weight': 0.1, 'rank': 150}}\n",
      "\t {'HybridSVDs': {'col_scaling': 0.4, 'features_weight': 0.3, 'rank': 300}}\n",
      "\t {'LCE': {'alpha': 0.1, 'beta': 0.3, 'rank': 2500}}\n",
      "\t {'FM': {'regularization': 3e-06, 'linear_regularization': 3e-06, 'rank': 2000}}\n",
      "\t {'SGD': {'regularization': 3e-06, 'linear_regularization': 1e-07, 'rank': 1500}}\n",
      "AMZe\n",
      "\t {'PureSVD': {'rank': 1000}}\n",
      "\t {'PureSVDs': {'col_scaling': 0.2, 'rank': 3000}}\n",
      "\t {'HybridSVD': {'features_weight': 0.1, 'rank': 1500}}\n",
      "\t {'HybridSVDs': {'col_scaling': 0.2, 'features_weight': 0.1, 'rank': 3000}}\n",
      "\t {'LCE': {'alpha': 0.1, 'beta': 0.0, 'rank': 100}}\n",
      "\t {'FM': {'regularization': 1e-06, 'linear_regularization': 1e-08, 'rank': 1750}}\n",
      "\t {'SGD': {'regularization': 1e-06, 'linear_regularization': 1e-08, 'rank': 1500}}\n",
      "YaMus\n",
      "\t {'PureSVD': {'rank': 3000}}\n",
      "\t {'PureSVDs': {'col_scaling': 0.4, 'rank': 3000}}\n",
      "\t {'HybridSVD': {'features_weight': 0.7, 'rank': 3000}}\n",
      "\t {'HybridSVDs': {'col_scaling': 0.4, 'features_weight': 0.1, 'rank': 3000}}\n",
      "\t {'LCE': {'alpha': 0.7, 'beta': 0.3, 'rank': 3000}}\n",
      "\t {'FM': {'regularization': 1e-09, 'linear_regularization': 1e-10, 'rank': 1}}\n",
      "\t {'SGD': {'regularization': 3e-08, 'linear_regularization': 3e-07, 'rank': 3000}}\n"
     ]
    }
   ],
   "source": [
    "for label in data_labels:\n",
    "    print(label)\n",
    "    for model in models:\n",
    "        try:\n",
    "            config = read_config(model, label)\n",
    "        except FileNotFoundError:\n",
    "            print(f'\\t !No data for {model}')\n",
    "        else:\n",
    "            if 'scaledhybridsvd' in model:\n",
    "                params =  read_config('scaledsvd', label)\n",
    "                config['HybridSVDs'] = {**{k:v for k,v in params['PureSVDs'].items() if k=='col_scaling'},\n",
    "                                        **config['HybridSVDs']}            \n",
    "            if 'lce' in model:\n",
    "                params = read_config('lce_param', label)\n",
    "                config['LCE'] = {**{k:v for k,v in params['LCE'].items() if k in ['alpha', 'beta']}, **config['LCE']}\n",
    "            if 'fm' in model:\n",
    "                params = read_config('fm_param', label)\n",
    "                config['FM'] = {**{k:v for k,v in params['FM'].items() if k.endswith('regularization')}, **config['FM']}\n",
    "            if 'sgd' in model:\n",
    "                params = read_config('sgd_param', label)\n",
    "                config['SGD'] = {**{k:v for k,v in params['SGD'].items() if k.endswith('regularization')}, **config['SGD']}\n",
    "            print('\\t', config)"
   ]
  },
  {
   "cell_type": "markdown",
   "metadata": {},
   "source": [
    "## model rank comparison"
   ]
  },
  {
   "cell_type": "code",
   "execution_count": 6,
   "metadata": {},
   "outputs": [],
   "source": [
    "ranks = []\n",
    "for label in data_labels:\n",
    "    for model in models:\n",
    "        try:\n",
    "            config = read_config(model, label)\n",
    "        except FileNotFoundError:\n",
    "            pass\n",
    "        else:\n",
    "            for name, params in config.items():\n",
    "                ranks.append((name, label, params['rank']))"
   ]
  },
  {
   "cell_type": "code",
   "execution_count": 7,
   "metadata": {},
   "outputs": [
    {
     "data": {
      "text/html": [
       "<div>\n",
       "<style scoped>\n",
       "    .dataframe tbody tr th:only-of-type {\n",
       "        vertical-align: middle;\n",
       "    }\n",
       "\n",
       "    .dataframe tbody tr th {\n",
       "        vertical-align: top;\n",
       "    }\n",
       "\n",
       "    .dataframe thead th {\n",
       "        text-align: right;\n",
       "    }\n",
       "</style>\n",
       "<table border=\"1\" class=\"dataframe\">\n",
       "  <thead>\n",
       "    <tr style=\"text-align: right;\">\n",
       "      <th></th>\n",
       "      <th>model</th>\n",
       "      <th>data</th>\n",
       "      <th>rank</th>\n",
       "    </tr>\n",
       "  </thead>\n",
       "  <tbody>\n",
       "    <tr>\n",
       "      <th>0</th>\n",
       "      <td>PureSVD</td>\n",
       "      <td>ML1M</td>\n",
       "      <td>30</td>\n",
       "    </tr>\n",
       "    <tr>\n",
       "      <th>1</th>\n",
       "      <td>PureSVDs</td>\n",
       "      <td>ML1M</td>\n",
       "      <td>75</td>\n",
       "    </tr>\n",
       "    <tr>\n",
       "      <th>2</th>\n",
       "      <td>HybridSVD</td>\n",
       "      <td>ML1M</td>\n",
       "      <td>50</td>\n",
       "    </tr>\n",
       "    <tr>\n",
       "      <th>3</th>\n",
       "      <td>HybridSVDs</td>\n",
       "      <td>ML1M</td>\n",
       "      <td>100</td>\n",
       "    </tr>\n",
       "    <tr>\n",
       "      <th>4</th>\n",
       "      <td>LCE</td>\n",
       "      <td>ML1M</td>\n",
       "      <td>150</td>\n",
       "    </tr>\n",
       "  </tbody>\n",
       "</table>\n",
       "</div>"
      ],
      "text/plain": [
       "        model  data  rank\n",
       "0     PureSVD  ML1M    30\n",
       "1    PureSVDs  ML1M    75\n",
       "2   HybridSVD  ML1M    50\n",
       "3  HybridSVDs  ML1M   100\n",
       "4         LCE  ML1M   150"
      ]
     },
     "execution_count": 7,
     "metadata": {},
     "output_type": "execute_result"
    }
   ],
   "source": [
    "opt_config = pd.DataFrame(ranks, columns=['model', 'data', 'rank'])\n",
    "opt_config.head()"
   ]
  },
  {
   "cell_type": "code",
   "execution_count": 8,
   "metadata": {},
   "outputs": [
    {
     "data": {
      "text/html": [
       "<div>\n",
       "<style scoped>\n",
       "    .dataframe tbody tr th:only-of-type {\n",
       "        vertical-align: middle;\n",
       "    }\n",
       "\n",
       "    .dataframe tbody tr th {\n",
       "        vertical-align: top;\n",
       "    }\n",
       "\n",
       "    .dataframe thead tr th {\n",
       "        text-align: left;\n",
       "    }\n",
       "\n",
       "    .dataframe thead tr:last-of-type th {\n",
       "        text-align: right;\n",
       "    }\n",
       "</style>\n",
       "<table border=\"1\" class=\"dataframe\">\n",
       "  <thead>\n",
       "    <tr>\n",
       "      <th></th>\n",
       "      <th colspan=\"6\" halign=\"left\">rank</th>\n",
       "    </tr>\n",
       "    <tr>\n",
       "      <th>data</th>\n",
       "      <th>AMZe</th>\n",
       "      <th>AMZvg</th>\n",
       "      <th>BX</th>\n",
       "      <th>ML10M</th>\n",
       "      <th>ML1M</th>\n",
       "      <th>YaMus</th>\n",
       "    </tr>\n",
       "    <tr>\n",
       "      <th>model</th>\n",
       "      <th></th>\n",
       "      <th></th>\n",
       "      <th></th>\n",
       "      <th></th>\n",
       "      <th></th>\n",
       "      <th></th>\n",
       "    </tr>\n",
       "  </thead>\n",
       "  <tbody>\n",
       "    <tr>\n",
       "      <th>FM</th>\n",
       "      <td>1750</td>\n",
       "      <td>2000</td>\n",
       "      <td>750</td>\n",
       "      <td>750</td>\n",
       "      <td>750</td>\n",
       "      <td>1</td>\n",
       "    </tr>\n",
       "    <tr>\n",
       "      <th>HybridSVD</th>\n",
       "      <td>1500</td>\n",
       "      <td>150</td>\n",
       "      <td>1250</td>\n",
       "      <td>30</td>\n",
       "      <td>50</td>\n",
       "      <td>3000</td>\n",
       "    </tr>\n",
       "    <tr>\n",
       "      <th>HybridSVDs</th>\n",
       "      <td>3000</td>\n",
       "      <td>300</td>\n",
       "      <td>1750</td>\n",
       "      <td>1000</td>\n",
       "      <td>100</td>\n",
       "      <td>3000</td>\n",
       "    </tr>\n",
       "    <tr>\n",
       "      <th>LCE</th>\n",
       "      <td>100</td>\n",
       "      <td>2500</td>\n",
       "      <td>1500</td>\n",
       "      <td>1000</td>\n",
       "      <td>150</td>\n",
       "      <td>3000</td>\n",
       "    </tr>\n",
       "    <tr>\n",
       "      <th>PureSVD</th>\n",
       "      <td>1000</td>\n",
       "      <td>150</td>\n",
       "      <td>1250</td>\n",
       "      <td>30</td>\n",
       "      <td>30</td>\n",
       "      <td>3000</td>\n",
       "    </tr>\n",
       "  </tbody>\n",
       "</table>\n",
       "</div>"
      ],
      "text/plain": [
       "            rank                             \n",
       "data        AMZe AMZvg    BX ML10M ML1M YaMus\n",
       "model                                        \n",
       "FM          1750  2000   750   750  750     1\n",
       "HybridSVD   1500   150  1250    30   50  3000\n",
       "HybridSVDs  3000   300  1750  1000  100  3000\n",
       "LCE          100  2500  1500  1000  150  3000\n",
       "PureSVD     1000   150  1250    30   30  3000"
      ]
     },
     "execution_count": 8,
     "metadata": {},
     "output_type": "execute_result"
    }
   ],
   "source": [
    "opt_config.set_index(['model','data']).sort_index().unstack('data').head()"
   ]
  },
  {
   "cell_type": "code",
   "execution_count": 9,
   "metadata": {},
   "outputs": [
    {
     "data": {
      "text/plain": [
       "<matplotlib.axes._subplots.AxesSubplot at 0x216c18afc18>"
      ]
     },
     "execution_count": 9,
     "metadata": {},
     "output_type": "execute_result"
    },
    {
     "data": {
      "image/png": "[encoded data removed]",
      "text/plain": [
       "<Figure size 432x288 with 1 Axes>"
      ]
     },
     "metadata": {},
     "output_type": "display_data"
    }
   ],
   "source": [
    "parallel_coordinates(opt_config.set_index(['model','data']).sort_index().unstack('data').loc[:, 'rank'].loc[:, data_labels].reset_index(),\n",
    "                     'model', color=colors)"
   ]
  },
  {
   "cell_type": "markdown",
   "metadata": {},
   "source": [
    "## svd hybridization"
   ]
  },
  {
   "cell_type": "code",
   "execution_count": 10,
   "metadata": {},
   "outputs": [
    {
     "data": {
      "text/html": [
       "<div>\n",
       "<style scoped>\n",
       "    .dataframe tbody tr th:only-of-type {\n",
       "        vertical-align: middle;\n",
       "    }\n",
       "\n",
       "    .dataframe tbody tr th {\n",
       "        vertical-align: top;\n",
       "    }\n",
       "\n",
       "    .dataframe thead th {\n",
       "        text-align: right;\n",
       "    }\n",
       "</style>\n",
       "<table border=\"1\" class=\"dataframe\">\n",
       "  <thead>\n",
       "    <tr style=\"text-align: right;\">\n",
       "      <th></th>\n",
       "      <th>model</th>\n",
       "      <th>data</th>\n",
       "      <th>rank</th>\n",
       "    </tr>\n",
       "  </thead>\n",
       "  <tbody>\n",
       "    <tr>\n",
       "      <th>0</th>\n",
       "      <td>PureSVD</td>\n",
       "      <td>ML1M</td>\n",
       "      <td>30</td>\n",
       "    </tr>\n",
       "    <tr>\n",
       "      <th>1</th>\n",
       "      <td>PureSVDs</td>\n",
       "      <td>ML1M</td>\n",
       "      <td>75</td>\n",
       "    </tr>\n",
       "    <tr>\n",
       "      <th>2</th>\n",
       "      <td>HybridSVD</td>\n",
       "      <td>ML1M</td>\n",
       "      <td>50</td>\n",
       "    </tr>\n",
       "    <tr>\n",
       "      <th>3</th>\n",
       "      <td>HybridSVDs</td>\n",
       "      <td>ML1M</td>\n",
       "      <td>100</td>\n",
       "    </tr>\n",
       "    <tr>\n",
       "      <th>7</th>\n",
       "      <td>PureSVD</td>\n",
       "      <td>ML10M</td>\n",
       "      <td>30</td>\n",
       "    </tr>\n",
       "  </tbody>\n",
       "</table>\n",
       "</div>"
      ],
      "text/plain": [
       "        model   data  rank\n",
       "0     PureSVD   ML1M    30\n",
       "1    PureSVDs   ML1M    75\n",
       "2   HybridSVD   ML1M    50\n",
       "3  HybridSVDs   ML1M   100\n",
       "7     PureSVD  ML10M    30"
      ]
     },
     "execution_count": 10,
     "metadata": {},
     "output_type": "execute_result"
    }
   ],
   "source": [
    "opt_svd_config = opt_config.loc[opt_config['model'].str.contains('SVD')]\n",
    "opt_svd_config.head()"
   ]
  },
  {
   "cell_type": "code",
   "execution_count": 11,
   "metadata": {},
   "outputs": [
    {
     "data": {
      "text/html": [
       "<div>\n",
       "<style scoped>\n",
       "    .dataframe tbody tr th:only-of-type {\n",
       "        vertical-align: middle;\n",
       "    }\n",
       "\n",
       "    .dataframe tbody tr th {\n",
       "        vertical-align: top;\n",
       "    }\n",
       "\n",
       "    .dataframe thead tr th {\n",
       "        text-align: left;\n",
       "    }\n",
       "</style>\n",
       "<table border=\"1\" class=\"dataframe\">\n",
       "  <thead>\n",
       "    <tr>\n",
       "      <th></th>\n",
       "      <th>model</th>\n",
       "      <th colspan=\"6\" halign=\"left\">rank</th>\n",
       "    </tr>\n",
       "    <tr>\n",
       "      <th>data</th>\n",
       "      <th></th>\n",
       "      <th>AMZe</th>\n",
       "      <th>AMZvg</th>\n",
       "      <th>BX</th>\n",
       "      <th>ML10M</th>\n",
       "      <th>ML1M</th>\n",
       "      <th>YaMus</th>\n",
       "    </tr>\n",
       "  </thead>\n",
       "  <tbody>\n",
       "    <tr>\n",
       "      <th>0</th>\n",
       "      <td>HybridSVD</td>\n",
       "      <td>1500</td>\n",
       "      <td>150</td>\n",
       "      <td>1250</td>\n",
       "      <td>30</td>\n",
       "      <td>50</td>\n",
       "      <td>3000</td>\n",
       "    </tr>\n",
       "    <tr>\n",
       "      <th>1</th>\n",
       "      <td>HybridSVDs</td>\n",
       "      <td>3000</td>\n",
       "      <td>300</td>\n",
       "      <td>1750</td>\n",
       "      <td>1000</td>\n",
       "      <td>100</td>\n",
       "      <td>3000</td>\n",
       "    </tr>\n",
       "    <tr>\n",
       "      <th>2</th>\n",
       "      <td>PureSVD</td>\n",
       "      <td>1000</td>\n",
       "      <td>150</td>\n",
       "      <td>1250</td>\n",
       "      <td>30</td>\n",
       "      <td>30</td>\n",
       "      <td>3000</td>\n",
       "    </tr>\n",
       "    <tr>\n",
       "      <th>3</th>\n",
       "      <td>PureSVDs</td>\n",
       "      <td>3000</td>\n",
       "      <td>300</td>\n",
       "      <td>1000</td>\n",
       "      <td>1000</td>\n",
       "      <td>75</td>\n",
       "      <td>3000</td>\n",
       "    </tr>\n",
       "  </tbody>\n",
       "</table>\n",
       "</div>"
      ],
      "text/plain": [
       "           model  rank                             \n",
       "data              AMZe AMZvg    BX ML10M ML1M YaMus\n",
       "0      HybridSVD  1500   150  1250    30   50  3000\n",
       "1     HybridSVDs  3000   300  1750  1000  100  3000\n",
       "2        PureSVD  1000   150  1250    30   30  3000\n",
       "3       PureSVDs  3000   300  1000  1000   75  3000"
      ]
     },
     "execution_count": 11,
     "metadata": {},
     "output_type": "execute_result"
    }
   ],
   "source": [
    "opt_svd_config.set_index(['model','data']).sort_index().unstack('data').reset_index()"
   ]
  },
  {
   "cell_type": "code",
   "execution_count": 12,
   "metadata": {},
   "outputs": [
    {
     "data": {
      "text/plain": [
       "<matplotlib.axes._subplots.AxesSubplot at 0x216c1c47da0>"
      ]
     },
     "execution_count": 12,
     "metadata": {},
     "output_type": "execute_result"
    },
    {
     "data": {
      "image/png": "[encoded data removed]",
      "text/plain": [
       "<Figure size 432x288 with 1 Axes>"
      ]
     },
     "metadata": {},
     "output_type": "display_data"
    }
   ],
   "source": [
    "parallel_coordinates(opt_svd_config.set_index(['model','data']).sort_index().unstack('data').loc[:, 'rank'].loc[:, data_labels].reset_index(),\n",
    "                     'model', color=colors)"
   ]
  },
  {
   "cell_type": "markdown",
   "metadata": {},
   "source": [
    "## svd scaling"
   ]
  },
  {
   "cell_type": "code",
   "execution_count": 13,
   "metadata": {},
   "outputs": [],
   "source": [
    "scaling = []\n",
    "for label in data_labels:\n",
    "    for model in models:\n",
    "        try:\n",
    "            config = read_config(model, label)\n",
    "        except FileNotFoundError:\n",
    "            pass\n",
    "        else:\n",
    "            for name, params in config.items():\n",
    "                if name.endswith('SVD'):\n",
    "                    scaling.append((name, False, label, params['rank']))\n",
    "                if name.endswith('SVDs'):\n",
    "                    scaling.append((name[:-1], True, label, params['rank']))"
   ]
  },
  {
   "cell_type": "code",
   "execution_count": 14,
   "metadata": {},
   "outputs": [
    {
     "data": {
      "text/html": [
       "<div>\n",
       "<style scoped>\n",
       "    .dataframe tbody tr th:only-of-type {\n",
       "        vertical-align: middle;\n",
       "    }\n",
       "\n",
       "    .dataframe tbody tr th {\n",
       "        vertical-align: top;\n",
       "    }\n",
       "\n",
       "    .dataframe thead th {\n",
       "        text-align: right;\n",
       "    }\n",
       "</style>\n",
       "<table border=\"1\" class=\"dataframe\">\n",
       "  <thead>\n",
       "    <tr style=\"text-align: right;\">\n",
       "      <th></th>\n",
       "      <th>model</th>\n",
       "      <th>scaling</th>\n",
       "      <th>data</th>\n",
       "      <th>rank</th>\n",
       "    </tr>\n",
       "  </thead>\n",
       "  <tbody>\n",
       "    <tr>\n",
       "      <th>0</th>\n",
       "      <td>PureSVD</td>\n",
       "      <td>False</td>\n",
       "      <td>ML1M</td>\n",
       "      <td>30</td>\n",
       "    </tr>\n",
       "    <tr>\n",
       "      <th>1</th>\n",
       "      <td>PureSVD</td>\n",
       "      <td>True</td>\n",
       "      <td>ML1M</td>\n",
       "      <td>75</td>\n",
       "    </tr>\n",
       "    <tr>\n",
       "      <th>2</th>\n",
       "      <td>HybridSVD</td>\n",
       "      <td>False</td>\n",
       "      <td>ML1M</td>\n",
       "      <td>50</td>\n",
       "    </tr>\n",
       "    <tr>\n",
       "      <th>3</th>\n",
       "      <td>HybridSVD</td>\n",
       "      <td>True</td>\n",
       "      <td>ML1M</td>\n",
       "      <td>100</td>\n",
       "    </tr>\n",
       "    <tr>\n",
       "      <th>4</th>\n",
       "      <td>PureSVD</td>\n",
       "      <td>False</td>\n",
       "      <td>ML10M</td>\n",
       "      <td>30</td>\n",
       "    </tr>\n",
       "  </tbody>\n",
       "</table>\n",
       "</div>"
      ],
      "text/plain": [
       "       model  scaling   data  rank\n",
       "0    PureSVD    False   ML1M    30\n",
       "1    PureSVD     True   ML1M    75\n",
       "2  HybridSVD    False   ML1M    50\n",
       "3  HybridSVD     True   ML1M   100\n",
       "4    PureSVD    False  ML10M    30"
      ]
     },
     "execution_count": 14,
     "metadata": {},
     "output_type": "execute_result"
    }
   ],
   "source": [
    "data = pd.DataFrame(scaling, columns=['model','scaling', 'data', 'rank'])\n",
    "data.head()"
   ]
  },
  {
   "cell_type": "code",
   "execution_count": 15,
   "metadata": {},
   "outputs": [
    {
     "data": {
      "text/html": [
       "<div>\n",
       "<style scoped>\n",
       "    .dataframe tbody tr th:only-of-type {\n",
       "        vertical-align: middle;\n",
       "    }\n",
       "\n",
       "    .dataframe tbody tr th {\n",
       "        vertical-align: top;\n",
       "    }\n",
       "\n",
       "    .dataframe thead tr th {\n",
       "        text-align: left;\n",
       "    }\n",
       "\n",
       "    .dataframe thead tr:last-of-type th {\n",
       "        text-align: right;\n",
       "    }\n",
       "</style>\n",
       "<table border=\"1\" class=\"dataframe\">\n",
       "  <thead>\n",
       "    <tr>\n",
       "      <th></th>\n",
       "      <th></th>\n",
       "      <th colspan=\"6\" halign=\"left\">rank</th>\n",
       "    </tr>\n",
       "    <tr>\n",
       "      <th></th>\n",
       "      <th>data</th>\n",
       "      <th>AMZe</th>\n",
       "      <th>AMZvg</th>\n",
       "      <th>BX</th>\n",
       "      <th>ML10M</th>\n",
       "      <th>ML1M</th>\n",
       "      <th>YaMus</th>\n",
       "    </tr>\n",
       "    <tr>\n",
       "      <th>model</th>\n",
       "      <th>scaling</th>\n",
       "      <th></th>\n",
       "      <th></th>\n",
       "      <th></th>\n",
       "      <th></th>\n",
       "      <th></th>\n",
       "      <th></th>\n",
       "    </tr>\n",
       "  </thead>\n",
       "  <tbody>\n",
       "    <tr>\n",
       "      <th rowspan=\"2\" valign=\"top\">HybridSVD</th>\n",
       "      <th>False</th>\n",
       "      <td>1500</td>\n",
       "      <td>150</td>\n",
       "      <td>1250</td>\n",
       "      <td>30</td>\n",
       "      <td>50</td>\n",
       "      <td>3000</td>\n",
       "    </tr>\n",
       "    <tr>\n",
       "      <th>True</th>\n",
       "      <td>3000</td>\n",
       "      <td>300</td>\n",
       "      <td>1750</td>\n",
       "      <td>1000</td>\n",
       "      <td>100</td>\n",
       "      <td>3000</td>\n",
       "    </tr>\n",
       "    <tr>\n",
       "      <th rowspan=\"2\" valign=\"top\">PureSVD</th>\n",
       "      <th>False</th>\n",
       "      <td>1000</td>\n",
       "      <td>150</td>\n",
       "      <td>1250</td>\n",
       "      <td>30</td>\n",
       "      <td>30</td>\n",
       "      <td>3000</td>\n",
       "    </tr>\n",
       "    <tr>\n",
       "      <th>True</th>\n",
       "      <td>3000</td>\n",
       "      <td>300</td>\n",
       "      <td>1000</td>\n",
       "      <td>1000</td>\n",
       "      <td>75</td>\n",
       "      <td>3000</td>\n",
       "    </tr>\n",
       "  </tbody>\n",
       "</table>\n",
       "</div>"
      ],
      "text/plain": [
       "                   rank                             \n",
       "data               AMZe AMZvg    BX ML10M ML1M YaMus\n",
       "model     scaling                                   \n",
       "HybridSVD False    1500   150  1250    30   50  3000\n",
       "          True     3000   300  1750  1000  100  3000\n",
       "PureSVD   False    1000   150  1250    30   30  3000\n",
       "          True     3000   300  1000  1000   75  3000"
      ]
     },
     "execution_count": 15,
     "metadata": {},
     "output_type": "execute_result"
    }
   ],
   "source": [
    "data.set_index(['model','scaling','data']).sort_index().unstack('data').head()"
   ]
  },
  {
   "cell_type": "code",
   "execution_count": 16,
   "metadata": {},
   "outputs": [
    {
     "data": {
      "text/plain": [
       "<matplotlib.axes._subplots.AxesSubplot at 0x216c2cc6240>"
      ]
     },
     "execution_count": 16,
     "metadata": {},
     "output_type": "execute_result"
    },
    {
     "data": {
      "image/png": "[encoded data removed]",
      "text/plain": [
       "<Figure size 432x288 with 1 Axes>"
      ]
     },
     "metadata": {},
     "output_type": "display_data"
    }
   ],
   "source": [
    "parallel_coordinates(data.set_index(['model','scaling','data']).sort_index().unstack('data').loc['HybridSVD', 'rank'].loc[:, data_labels].reset_index(),\n",
    "                     'scaling', color=colors)\n",
    "parallel_coordinates(data.set_index(['model','scaling','data']).sort_index().unstack('data').loc['PureSVD', 'rank'].loc[:, data_labels].reset_index(),\n",
    "                     'scaling', color=colors, alpha=0.5)"
   ]
  },
  {
   "cell_type": "code",
   "execution_count": 17,
   "metadata": {},
   "outputs": [
    {
     "data": {
      "text/html": [
       "<div>\n",
       "<style scoped>\n",
       "    .dataframe tbody tr th:only-of-type {\n",
       "        vertical-align: middle;\n",
       "    }\n",
       "\n",
       "    .dataframe tbody tr th {\n",
       "        vertical-align: top;\n",
       "    }\n",
       "\n",
       "    .dataframe thead tr th {\n",
       "        text-align: left;\n",
       "    }\n",
       "\n",
       "    .dataframe thead tr:last-of-type th {\n",
       "        text-align: right;\n",
       "    }\n",
       "</style>\n",
       "<table border=\"1\" class=\"dataframe\">\n",
       "  <thead>\n",
       "    <tr>\n",
       "      <th></th>\n",
       "      <th></th>\n",
       "      <th colspan=\"2\" halign=\"left\">rank</th>\n",
       "    </tr>\n",
       "    <tr>\n",
       "      <th></th>\n",
       "      <th>scaling</th>\n",
       "      <th>False</th>\n",
       "      <th>True</th>\n",
       "    </tr>\n",
       "    <tr>\n",
       "      <th>model</th>\n",
       "      <th>data</th>\n",
       "      <th></th>\n",
       "      <th></th>\n",
       "    </tr>\n",
       "  </thead>\n",
       "  <tbody>\n",
       "    <tr>\n",
       "      <th rowspan=\"5\" valign=\"top\">HybridSVD</th>\n",
       "      <th>AMZe</th>\n",
       "      <td>1500</td>\n",
       "      <td>3000</td>\n",
       "    </tr>\n",
       "    <tr>\n",
       "      <th>AMZvg</th>\n",
       "      <td>150</td>\n",
       "      <td>300</td>\n",
       "    </tr>\n",
       "    <tr>\n",
       "      <th>BX</th>\n",
       "      <td>1250</td>\n",
       "      <td>1750</td>\n",
       "    </tr>\n",
       "    <tr>\n",
       "      <th>ML10M</th>\n",
       "      <td>30</td>\n",
       "      <td>1000</td>\n",
       "    </tr>\n",
       "    <tr>\n",
       "      <th>ML1M</th>\n",
       "      <td>50</td>\n",
       "      <td>100</td>\n",
       "    </tr>\n",
       "  </tbody>\n",
       "</table>\n",
       "</div>"
      ],
      "text/plain": [
       "                 rank      \n",
       "scaling         False True \n",
       "model     data             \n",
       "HybridSVD AMZe   1500  3000\n",
       "          AMZvg   150   300\n",
       "          BX     1250  1750\n",
       "          ML10M    30  1000\n",
       "          ML1M     50   100"
      ]
     },
     "execution_count": 17,
     "metadata": {},
     "output_type": "execute_result"
    }
   ],
   "source": [
    "data.set_index(['model','scaling','data']).sort_index().unstack('scaling').head()"
   ]
  },
  {
   "cell_type": "code",
   "execution_count": 18,
   "metadata": {},
   "outputs": [
    {
     "data": {
      "text/plain": [
       "<matplotlib.axes._subplots.AxesSubplot at 0x216c2d29be0>"
      ]
     },
     "execution_count": 18,
     "metadata": {},
     "output_type": "execute_result"
    },
    {
     "data": {
      "image/png": "[encoded data removed]",
      "text/plain": [
       "<Figure size 432x288 with 1 Axes>"
      ]
     },
     "metadata": {},
     "output_type": "display_data"
    }
   ],
   "source": [
    "parallel_coordinates(data.set_index(['model','scaling','data']).sort_index().unstack('scaling').loc['HybridSVD', 'rank'].reset_index().dropna(),\n",
    "                     'data', color=colors)\n",
    "parallel_coordinates(data.set_index(['model','scaling','data']).sort_index().unstack('scaling').loc['PureSVD', 'rank'].reset_index().dropna(),\n",
    "                     'data', color=colors, alpha=0.5)"
   ]
  },
  {
   "cell_type": "code",
   "execution_count": 19,
   "metadata": {},
   "outputs": [
    {
     "data": {
      "text/html": [
       "<div>\n",
       "<style scoped>\n",
       "    .dataframe tbody tr th:only-of-type {\n",
       "        vertical-align: middle;\n",
       "    }\n",
       "\n",
       "    .dataframe tbody tr th {\n",
       "        vertical-align: top;\n",
       "    }\n",
       "\n",
       "    .dataframe thead tr th {\n",
       "        text-align: left;\n",
       "    }\n",
       "\n",
       "    .dataframe thead tr:last-of-type th {\n",
       "        text-align: right;\n",
       "    }\n",
       "</style>\n",
       "<table border=\"1\" class=\"dataframe\">\n",
       "  <thead>\n",
       "    <tr>\n",
       "      <th></th>\n",
       "      <th></th>\n",
       "      <th colspan=\"2\" halign=\"left\">rank</th>\n",
       "    </tr>\n",
       "    <tr>\n",
       "      <th></th>\n",
       "      <th>model</th>\n",
       "      <th>HybridSVD</th>\n",
       "      <th>PureSVD</th>\n",
       "    </tr>\n",
       "    <tr>\n",
       "      <th>scaling</th>\n",
       "      <th>data</th>\n",
       "      <th></th>\n",
       "      <th></th>\n",
       "    </tr>\n",
       "  </thead>\n",
       "  <tbody>\n",
       "    <tr>\n",
       "      <th rowspan=\"6\" valign=\"top\">False</th>\n",
       "      <th>AMZe</th>\n",
       "      <td>1500</td>\n",
       "      <td>1000</td>\n",
       "    </tr>\n",
       "    <tr>\n",
       "      <th>AMZvg</th>\n",
       "      <td>150</td>\n",
       "      <td>150</td>\n",
       "    </tr>\n",
       "    <tr>\n",
       "      <th>BX</th>\n",
       "      <td>1250</td>\n",
       "      <td>1250</td>\n",
       "    </tr>\n",
       "    <tr>\n",
       "      <th>ML10M</th>\n",
       "      <td>30</td>\n",
       "      <td>30</td>\n",
       "    </tr>\n",
       "    <tr>\n",
       "      <th>ML1M</th>\n",
       "      <td>50</td>\n",
       "      <td>30</td>\n",
       "    </tr>\n",
       "    <tr>\n",
       "      <th>YaMus</th>\n",
       "      <td>3000</td>\n",
       "      <td>3000</td>\n",
       "    </tr>\n",
       "    <tr>\n",
       "      <th rowspan=\"6\" valign=\"top\">True</th>\n",
       "      <th>AMZe</th>\n",
       "      <td>3000</td>\n",
       "      <td>3000</td>\n",
       "    </tr>\n",
       "    <tr>\n",
       "      <th>AMZvg</th>\n",
       "      <td>300</td>\n",
       "      <td>300</td>\n",
       "    </tr>\n",
       "    <tr>\n",
       "      <th>BX</th>\n",
       "      <td>1750</td>\n",
       "      <td>1000</td>\n",
       "    </tr>\n",
       "    <tr>\n",
       "      <th>ML10M</th>\n",
       "      <td>1000</td>\n",
       "      <td>1000</td>\n",
       "    </tr>\n",
       "    <tr>\n",
       "      <th>ML1M</th>\n",
       "      <td>100</td>\n",
       "      <td>75</td>\n",
       "    </tr>\n",
       "    <tr>\n",
       "      <th>YaMus</th>\n",
       "      <td>3000</td>\n",
       "      <td>3000</td>\n",
       "    </tr>\n",
       "  </tbody>\n",
       "</table>\n",
       "</div>"
      ],
      "text/plain": [
       "                   rank        \n",
       "model         HybridSVD PureSVD\n",
       "scaling data                   \n",
       "False   AMZe       1500    1000\n",
       "        AMZvg       150     150\n",
       "        BX         1250    1250\n",
       "        ML10M        30      30\n",
       "        ML1M         50      30\n",
       "        YaMus      3000    3000\n",
       "True    AMZe       3000    3000\n",
       "        AMZvg       300     300\n",
       "        BX         1750    1000\n",
       "        ML10M      1000    1000\n",
       "        ML1M        100      75\n",
       "        YaMus      3000    3000"
      ]
     },
     "execution_count": 19,
     "metadata": {},
     "output_type": "execute_result"
    }
   ],
   "source": [
    "data.set_index(['model','scaling','data']).sort_index().unstack('model')"
   ]
  },
  {
   "cell_type": "markdown",
   "metadata": {},
   "source": [
    "# Cold start"
   ]
  },
  {
   "cell_type": "code",
   "execution_count": 20,
   "metadata": {},
   "outputs": [
    {
     "name": "stdout",
     "output_type": "stream",
     "text": [
      "ML1M(CS)\n",
      "\t {'PureSVD(cs)': {'rank': 100}}\n",
      "\t {'PureSVDs(cs)': {'col_scaling': 0.6, 'rank': 30}}\n",
      "\t {'HybridSVD(cs)': {'features_weight': 0.7, 'rank': 5}}\n",
      "\t {'HybridSVDs(cs)': {'col_scaling': 0.6, 'features_weight': 0.7, 'rank': 5}}\n",
      "\t {'LCE(cs)': {'alpha': 0.9, 'beta': 0.0, 'rank': 1}}\n",
      "\t {'FM(cs)': {'regularization': 1e-10, 'linear_regularization': 1e-06, 'rank': 5}}\n",
      "ML10M(CS)\n",
      "\t {'PureSVD(cs)': {'rank': 400}}\n",
      "\t {'PureSVDs(cs)': {'col_scaling': 0.2, 'rank': 60}}\n",
      "\t {'HybridSVD(cs)': {'features_weight': 0.9, 'rank': 60}}\n",
      "\t {'HybridSVDs(cs)': {'col_scaling': 0.2, 'features_weight': 0.9, 'rank': 50}}\n",
      "\t {'LCE(cs)': {'alpha': 0.3, 'beta': 0.0, 'rank': 15}}\n",
      "\t {'FM(cs)': {'regularization': 3e-06, 'linear_regularization': 1e-06, 'rank': 75}}\n",
      "BX(CS)\n",
      "\t {'PureSVD(cs)': {'rank': 400}}\n",
      "\t {'PureSVDs(cs)': {'col_scaling': 0.2, 'rank': 400}}\n",
      "\t {'HybridSVD(cs)': {'features_weight': 0.9, 'rank': 750}}\n",
      "\t {'HybridSVDs(cs)': {'col_scaling': 0.2, 'features_weight': 0.9, 'rank': 500}}\n",
      "\t {'LCE(cs)': {'alpha': 0.1, 'beta': 0.0, 'rank': 75}}\n",
      "\t {'FM(cs)': {'regularization': 3e-06, 'linear_regularization': 3e-07, 'rank': 150}}\n",
      "AMZvg(CS)\n",
      "\t {'PureSVD(cs)': {'rank': 3000}}\n",
      "\t {'PureSVDs(cs)': {'col_scaling': 0.6, 'rank': 1500}}\n",
      "\t {'HybridSVD(cs)': {'features_weight': 0.1, 'rank': 2000}}\n",
      "\t {'HybridSVDs(cs)': {'col_scaling': 0.6, 'features_weight': 0.3, 'rank': 500}}\n",
      "\t {'LCE(cs)': {'alpha': 0.3, 'beta': 0.05, 'rank': 2000}}\n",
      "\t {'FM(cs)': {'regularization': 1e-09, 'linear_regularization': 1e-10, 'rank': 50}}\n",
      "AMZe(CS)\n",
      "\t {'PureSVD(cs)': {'rank': 2500}}\n",
      "\t {'PureSVDs(cs)': {'col_scaling': 0.4, 'rank': 300}}\n",
      "\t {'HybridSVD(cs)': {'features_weight': 0.5, 'rank': 1750}}\n",
      "\t {'HybridSVDs(cs)': {'col_scaling': 0.4, 'features_weight': 0.9, 'rank': 750}}\n",
      "\t {'LCE(cs)': {'alpha': 0.3, 'beta': 0.3, 'rank': 3000}}\n",
      "\t {'FM(cs)': {'regularization': 3e-06, 'linear_regularization': 3e-08, 'rank': 1000}}\n",
      "YaMus(CS)\n",
      "\t {'PureSVD(cs)': {'rank': 2000}}\n",
      "\t {'PureSVDs(cs)': {'col_scaling': 0.2, 'rank': 1250}}\n",
      "\t {'HybridSVD(cs)': {'features_weight': 0.9, 'rank': 2500}}\n",
      "\t {'HybridSVDs(cs)': {'col_scaling': 0.2, 'features_weight': 0.9, 'rank': 2000}}\n",
      "\t {'LCE(cs)': {'alpha': 0.1, 'beta': 0.1, 'rank': 500}}\n",
      "\t !No data for fm_coldstart_rank\n"
     ]
    }
   ],
   "source": [
    "for label in data_labels:\n",
    "    print(label + '(CS)')\n",
    "    for model in cs_models:\n",
    "        try:\n",
    "            config = read_config(model, label)\n",
    "        except FileNotFoundError:\n",
    "            print(f'\\t !No data for {model}')\n",
    "        else:\n",
    "            if 'lce' in model:\n",
    "                params = read_config('lce_coldstart_param', label)\n",
    "                config['LCE(cs)'] = {**{k:v for k,v in params['LCE(cs)'].items() if k in ['alpha', 'beta']},\n",
    "                                     **config['LCE(cs)']}\n",
    "            if 'fm' in model:\n",
    "                params = read_config('fm_coldstart_param', label)\n",
    "                config['FM(cs)'] = {**{k:v for k,v in params['FM(cs)'].items() if k.endswith('regularization')},\n",
    "                                    **config['FM(cs)']}\n",
    "            if 'scaledhybridsvd' in model:\n",
    "                params =  read_config('scaledsvd_coldstart', label)\n",
    "                config['HybridSVDs(cs)'] = {**{k:v for k,v in params['PureSVDs(cs)'].items() if k=='col_scaling'},\n",
    "                                            **config['HybridSVDs(cs)']}\n",
    "            print('\\t', config)"
   ]
  },
  {
   "cell_type": "markdown",
   "metadata": {},
   "source": [
    "## model rank comparison"
   ]
  },
  {
   "cell_type": "code",
   "execution_count": 21,
   "metadata": {},
   "outputs": [],
   "source": [
    "ranks = []\n",
    "for label in data_labels:\n",
    "    for model in cs_models:\n",
    "        try:\n",
    "            config = read_config(model, label)\n",
    "        except FileNotFoundError:\n",
    "            pass\n",
    "        else:\n",
    "            for name, params in config.items():\n",
    "                ranks.append((name, label, params['rank']))"
   ]
  },
  {
   "cell_type": "code",
   "execution_count": 22,
   "metadata": {},
   "outputs": [
    {
     "data": {
      "text/html": [
       "<div>\n",
       "<style scoped>\n",
       "    .dataframe tbody tr th:only-of-type {\n",
       "        vertical-align: middle;\n",
       "    }\n",
       "\n",
       "    .dataframe tbody tr th {\n",
       "        vertical-align: top;\n",
       "    }\n",
       "\n",
       "    .dataframe thead th {\n",
       "        text-align: right;\n",
       "    }\n",
       "</style>\n",
       "<table border=\"1\" class=\"dataframe\">\n",
       "  <thead>\n",
       "    <tr style=\"text-align: right;\">\n",
       "      <th></th>\n",
       "      <th>model</th>\n",
       "      <th>data</th>\n",
       "      <th>rank</th>\n",
       "    </tr>\n",
       "  </thead>\n",
       "  <tbody>\n",
       "    <tr>\n",
       "      <th>0</th>\n",
       "      <td>PureSVD(cs)</td>\n",
       "      <td>ML1M</td>\n",
       "      <td>100</td>\n",
       "    </tr>\n",
       "    <tr>\n",
       "      <th>1</th>\n",
       "      <td>PureSVDs(cs)</td>\n",
       "      <td>ML1M</td>\n",
       "      <td>30</td>\n",
       "    </tr>\n",
       "    <tr>\n",
       "      <th>2</th>\n",
       "      <td>HybridSVD(cs)</td>\n",
       "      <td>ML1M</td>\n",
       "      <td>5</td>\n",
       "    </tr>\n",
       "    <tr>\n",
       "      <th>3</th>\n",
       "      <td>HybridSVDs(cs)</td>\n",
       "      <td>ML1M</td>\n",
       "      <td>5</td>\n",
       "    </tr>\n",
       "    <tr>\n",
       "      <th>4</th>\n",
       "      <td>LCE(cs)</td>\n",
       "      <td>ML1M</td>\n",
       "      <td>1</td>\n",
       "    </tr>\n",
       "  </tbody>\n",
       "</table>\n",
       "</div>"
      ],
      "text/plain": [
       "            model  data  rank\n",
       "0     PureSVD(cs)  ML1M   100\n",
       "1    PureSVDs(cs)  ML1M    30\n",
       "2   HybridSVD(cs)  ML1M     5\n",
       "3  HybridSVDs(cs)  ML1M     5\n",
       "4         LCE(cs)  ML1M     1"
      ]
     },
     "execution_count": 22,
     "metadata": {},
     "output_type": "execute_result"
    }
   ],
   "source": [
    "opt_config = pd.DataFrame(ranks, columns=['model', 'data', 'rank'])\n",
    "opt_config.head()"
   ]
  },
  {
   "cell_type": "code",
   "execution_count": 23,
   "metadata": {},
   "outputs": [
    {
     "data": {
      "text/html": [
       "<div>\n",
       "<style scoped>\n",
       "    .dataframe tbody tr th:only-of-type {\n",
       "        vertical-align: middle;\n",
       "    }\n",
       "\n",
       "    .dataframe tbody tr th {\n",
       "        vertical-align: top;\n",
       "    }\n",
       "\n",
       "    .dataframe thead tr th {\n",
       "        text-align: left;\n",
       "    }\n",
       "\n",
       "    .dataframe thead tr:last-of-type th {\n",
       "        text-align: right;\n",
       "    }\n",
       "</style>\n",
       "<table border=\"1\" class=\"dataframe\">\n",
       "  <thead>\n",
       "    <tr>\n",
       "      <th></th>\n",
       "      <th colspan=\"6\" halign=\"left\">rank</th>\n",
       "    </tr>\n",
       "    <tr>\n",
       "      <th>data</th>\n",
       "      <th>AMZe</th>\n",
       "      <th>AMZvg</th>\n",
       "      <th>BX</th>\n",
       "      <th>ML10M</th>\n",
       "      <th>ML1M</th>\n",
       "      <th>YaMus</th>\n",
       "    </tr>\n",
       "    <tr>\n",
       "      <th>model</th>\n",
       "      <th></th>\n",
       "      <th></th>\n",
       "      <th></th>\n",
       "      <th></th>\n",
       "      <th></th>\n",
       "      <th></th>\n",
       "    </tr>\n",
       "  </thead>\n",
       "  <tbody>\n",
       "    <tr>\n",
       "      <th>FM(cs)</th>\n",
       "      <td>1000.0</td>\n",
       "      <td>50.0</td>\n",
       "      <td>150.0</td>\n",
       "      <td>75.0</td>\n",
       "      <td>5.0</td>\n",
       "      <td>NaN</td>\n",
       "    </tr>\n",
       "    <tr>\n",
       "      <th>HybridSVD(cs)</th>\n",
       "      <td>1750.0</td>\n",
       "      <td>2000.0</td>\n",
       "      <td>750.0</td>\n",
       "      <td>60.0</td>\n",
       "      <td>5.0</td>\n",
       "      <td>2500.0</td>\n",
       "    </tr>\n",
       "    <tr>\n",
       "      <th>HybridSVDs(cs)</th>\n",
       "      <td>750.0</td>\n",
       "      <td>500.0</td>\n",
       "      <td>500.0</td>\n",
       "      <td>50.0</td>\n",
       "      <td>5.0</td>\n",
       "      <td>2000.0</td>\n",
       "    </tr>\n",
       "    <tr>\n",
       "      <th>LCE(cs)</th>\n",
       "      <td>3000.0</td>\n",
       "      <td>2000.0</td>\n",
       "      <td>75.0</td>\n",
       "      <td>15.0</td>\n",
       "      <td>1.0</td>\n",
       "      <td>500.0</td>\n",
       "    </tr>\n",
       "    <tr>\n",
       "      <th>PureSVD(cs)</th>\n",
       "      <td>2500.0</td>\n",
       "      <td>3000.0</td>\n",
       "      <td>400.0</td>\n",
       "      <td>400.0</td>\n",
       "      <td>100.0</td>\n",
       "      <td>2000.0</td>\n",
       "    </tr>\n",
       "  </tbody>\n",
       "</table>\n",
       "</div>"
      ],
      "text/plain": [
       "                  rank                                     \n",
       "data              AMZe   AMZvg     BX  ML10M   ML1M   YaMus\n",
       "model                                                      \n",
       "FM(cs)          1000.0    50.0  150.0   75.0    5.0     NaN\n",
       "HybridSVD(cs)   1750.0  2000.0  750.0   60.0    5.0  2500.0\n",
       "HybridSVDs(cs)   750.0   500.0  500.0   50.0    5.0  2000.0\n",
       "LCE(cs)         3000.0  2000.0   75.0   15.0    1.0   500.0\n",
       "PureSVD(cs)     2500.0  3000.0  400.0  400.0  100.0  2000.0"
      ]
     },
     "execution_count": 23,
     "metadata": {},
     "output_type": "execute_result"
    }
   ],
   "source": [
    "opt_config.set_index(['model','data']).sort_index().unstack('data').head()"
   ]
  },
  {
   "cell_type": "code",
   "execution_count": 24,
   "metadata": {},
   "outputs": [
    {
     "data": {
      "text/plain": [
       "<matplotlib.axes._subplots.AxesSubplot at 0x216c2e1d7b8>"
      ]
     },
     "execution_count": 24,
     "metadata": {},
     "output_type": "execute_result"
    },
    {
     "data": {
      "image/png": "[encoded data removed]",
      "text/plain": [
       "<Figure size 432x288 with 1 Axes>"
      ]
     },
     "metadata": {},
     "output_type": "display_data"
    }
   ],
   "source": [
    "parallel_coordinates(opt_config.set_index(['model','data']).sort_index().unstack('data').loc[:, 'rank'].loc[:, data_labels].reset_index(),\n",
    "                     'model', color=colors)"
   ]
  },
  {
   "cell_type": "markdown",
   "metadata": {},
   "source": [
    "## svd hybridization"
   ]
  },
  {
   "cell_type": "code",
   "execution_count": 25,
   "metadata": {},
   "outputs": [
    {
     "data": {
      "text/html": [
       "<div>\n",
       "<style scoped>\n",
       "    .dataframe tbody tr th:only-of-type {\n",
       "        vertical-align: middle;\n",
       "    }\n",
       "\n",
       "    .dataframe tbody tr th {\n",
       "        vertical-align: top;\n",
       "    }\n",
       "\n",
       "    .dataframe thead th {\n",
       "        text-align: right;\n",
       "    }\n",
       "</style>\n",
       "<table border=\"1\" class=\"dataframe\">\n",
       "  <thead>\n",
       "    <tr style=\"text-align: right;\">\n",
       "      <th></th>\n",
       "      <th>model</th>\n",
       "      <th>data</th>\n",
       "      <th>rank</th>\n",
       "    </tr>\n",
       "  </thead>\n",
       "  <tbody>\n",
       "    <tr>\n",
       "      <th>0</th>\n",
       "      <td>PureSVD(cs)</td>\n",
       "      <td>ML1M</td>\n",
       "      <td>100</td>\n",
       "    </tr>\n",
       "    <tr>\n",
       "      <th>1</th>\n",
       "      <td>PureSVDs(cs)</td>\n",
       "      <td>ML1M</td>\n",
       "      <td>30</td>\n",
       "    </tr>\n",
       "    <tr>\n",
       "      <th>2</th>\n",
       "      <td>HybridSVD(cs)</td>\n",
       "      <td>ML1M</td>\n",
       "      <td>5</td>\n",
       "    </tr>\n",
       "    <tr>\n",
       "      <th>3</th>\n",
       "      <td>HybridSVDs(cs)</td>\n",
       "      <td>ML1M</td>\n",
       "      <td>5</td>\n",
       "    </tr>\n",
       "    <tr>\n",
       "      <th>6</th>\n",
       "      <td>PureSVD(cs)</td>\n",
       "      <td>ML10M</td>\n",
       "      <td>400</td>\n",
       "    </tr>\n",
       "  </tbody>\n",
       "</table>\n",
       "</div>"
      ],
      "text/plain": [
       "            model   data  rank\n",
       "0     PureSVD(cs)   ML1M   100\n",
       "1    PureSVDs(cs)   ML1M    30\n",
       "2   HybridSVD(cs)   ML1M     5\n",
       "3  HybridSVDs(cs)   ML1M     5\n",
       "6     PureSVD(cs)  ML10M   400"
      ]
     },
     "execution_count": 25,
     "metadata": {},
     "output_type": "execute_result"
    }
   ],
   "source": [
    "opt_svd_config = opt_config.loc[opt_config['model'].str.contains('SVD')]\n",
    "opt_svd_config.head()"
   ]
  },
  {
   "cell_type": "code",
   "execution_count": 26,
   "metadata": {},
   "outputs": [
    {
     "data": {
      "text/html": [
       "<div>\n",
       "<style scoped>\n",
       "    .dataframe tbody tr th:only-of-type {\n",
       "        vertical-align: middle;\n",
       "    }\n",
       "\n",
       "    .dataframe tbody tr th {\n",
       "        vertical-align: top;\n",
       "    }\n",
       "\n",
       "    .dataframe thead tr th {\n",
       "        text-align: left;\n",
       "    }\n",
       "</style>\n",
       "<table border=\"1\" class=\"dataframe\">\n",
       "  <thead>\n",
       "    <tr>\n",
       "      <th></th>\n",
       "      <th>model</th>\n",
       "      <th colspan=\"6\" halign=\"left\">rank</th>\n",
       "    </tr>\n",
       "    <tr>\n",
       "      <th>data</th>\n",
       "      <th></th>\n",
       "      <th>AMZe</th>\n",
       "      <th>AMZvg</th>\n",
       "      <th>BX</th>\n",
       "      <th>ML10M</th>\n",
       "      <th>ML1M</th>\n",
       "      <th>YaMus</th>\n",
       "    </tr>\n",
       "  </thead>\n",
       "  <tbody>\n",
       "    <tr>\n",
       "      <th>0</th>\n",
       "      <td>HybridSVD(cs)</td>\n",
       "      <td>1750</td>\n",
       "      <td>2000</td>\n",
       "      <td>750</td>\n",
       "      <td>60</td>\n",
       "      <td>5</td>\n",
       "      <td>2500</td>\n",
       "    </tr>\n",
       "    <tr>\n",
       "      <th>1</th>\n",
       "      <td>HybridSVDs(cs)</td>\n",
       "      <td>750</td>\n",
       "      <td>500</td>\n",
       "      <td>500</td>\n",
       "      <td>50</td>\n",
       "      <td>5</td>\n",
       "      <td>2000</td>\n",
       "    </tr>\n",
       "    <tr>\n",
       "      <th>2</th>\n",
       "      <td>PureSVD(cs)</td>\n",
       "      <td>2500</td>\n",
       "      <td>3000</td>\n",
       "      <td>400</td>\n",
       "      <td>400</td>\n",
       "      <td>100</td>\n",
       "      <td>2000</td>\n",
       "    </tr>\n",
       "    <tr>\n",
       "      <th>3</th>\n",
       "      <td>PureSVDs(cs)</td>\n",
       "      <td>300</td>\n",
       "      <td>1500</td>\n",
       "      <td>400</td>\n",
       "      <td>60</td>\n",
       "      <td>30</td>\n",
       "      <td>1250</td>\n",
       "    </tr>\n",
       "  </tbody>\n",
       "</table>\n",
       "</div>"
      ],
      "text/plain": [
       "               model  rank                            \n",
       "data                  AMZe AMZvg   BX ML10M ML1M YaMus\n",
       "0      HybridSVD(cs)  1750  2000  750    60    5  2500\n",
       "1     HybridSVDs(cs)   750   500  500    50    5  2000\n",
       "2        PureSVD(cs)  2500  3000  400   400  100  2000\n",
       "3       PureSVDs(cs)   300  1500  400    60   30  1250"
      ]
     },
     "execution_count": 26,
     "metadata": {},
     "output_type": "execute_result"
    }
   ],
   "source": [
    "opt_svd_config.set_index(['model','data']).sort_index().unstack('data').reset_index()"
   ]
  },
  {
   "cell_type": "code",
   "execution_count": 27,
   "metadata": {},
   "outputs": [
    {
     "data": {
      "text/plain": [
       "<matplotlib.axes._subplots.AxesSubplot at 0x216c2e71b70>"
      ]
     },
     "execution_count": 27,
     "metadata": {},
     "output_type": "execute_result"
    },
    {
     "data": {
      "image/png": "[encoded data removed]",
      "text/plain": [
       "<Figure size 432x288 with 1 Axes>"
      ]
     },
     "metadata": {},
     "output_type": "display_data"
    }
   ],
   "source": [
    "parallel_coordinates(opt_svd_config.set_index(['model','data']).sort_index().unstack('data').loc[:, 'rank'].loc[:, data_labels].reset_index(),\n",
    "                     'model', color=colors)"
   ]
  },
  {
   "cell_type": "markdown",
   "metadata": {},
   "source": [
    "## svd scaling"
   ]
  },
  {
   "cell_type": "code",
   "execution_count": 28,
   "metadata": {},
   "outputs": [],
   "source": [
    "scaling = []\n",
    "for label in data_labels:\n",
    "    for model in cs_models:\n",
    "        try:\n",
    "            config = read_config(model, label)\n",
    "        except FileNotFoundError:\n",
    "            pass\n",
    "        else:\n",
    "            for name, params in config.items():\n",
    "                if name.endswith('SVD(cs)'):\n",
    "                    scaling.append((name, False, label, params['rank']))\n",
    "                if name.endswith('SVDs(cs)'):\n",
    "                    scaling.append((name[:-5]+'(cs)', True, label, params['rank']))"
   ]
  },
  {
   "cell_type": "code",
   "execution_count": 29,
   "metadata": {},
   "outputs": [
    {
     "data": {
      "text/html": [
       "<div>\n",
       "<style scoped>\n",
       "    .dataframe tbody tr th:only-of-type {\n",
       "        vertical-align: middle;\n",
       "    }\n",
       "\n",
       "    .dataframe tbody tr th {\n",
       "        vertical-align: top;\n",
       "    }\n",
       "\n",
       "    .dataframe thead th {\n",
       "        text-align: right;\n",
       "    }\n",
       "</style>\n",
       "<table border=\"1\" class=\"dataframe\">\n",
       "  <thead>\n",
       "    <tr style=\"text-align: right;\">\n",
       "      <th></th>\n",
       "      <th>model</th>\n",
       "      <th>scaling</th>\n",
       "      <th>data</th>\n",
       "      <th>rank</th>\n",
       "    </tr>\n",
       "  </thead>\n",
       "  <tbody>\n",
       "    <tr>\n",
       "      <th>0</th>\n",
       "      <td>PureSVD(cs)</td>\n",
       "      <td>False</td>\n",
       "      <td>ML1M</td>\n",
       "      <td>100</td>\n",
       "    </tr>\n",
       "    <tr>\n",
       "      <th>1</th>\n",
       "      <td>PureSVD(cs)</td>\n",
       "      <td>True</td>\n",
       "      <td>ML1M</td>\n",
       "      <td>30</td>\n",
       "    </tr>\n",
       "    <tr>\n",
       "      <th>2</th>\n",
       "      <td>HybridSVD(cs)</td>\n",
       "      <td>False</td>\n",
       "      <td>ML1M</td>\n",
       "      <td>5</td>\n",
       "    </tr>\n",
       "    <tr>\n",
       "      <th>3</th>\n",
       "      <td>HybridSVD(cs)</td>\n",
       "      <td>True</td>\n",
       "      <td>ML1M</td>\n",
       "      <td>5</td>\n",
       "    </tr>\n",
       "    <tr>\n",
       "      <th>4</th>\n",
       "      <td>PureSVD(cs)</td>\n",
       "      <td>False</td>\n",
       "      <td>ML10M</td>\n",
       "      <td>400</td>\n",
       "    </tr>\n",
       "  </tbody>\n",
       "</table>\n",
       "</div>"
      ],
      "text/plain": [
       "           model  scaling   data  rank\n",
       "0    PureSVD(cs)    False   ML1M   100\n",
       "1    PureSVD(cs)     True   ML1M    30\n",
       "2  HybridSVD(cs)    False   ML1M     5\n",
       "3  HybridSVD(cs)     True   ML1M     5\n",
       "4    PureSVD(cs)    False  ML10M   400"
      ]
     },
     "execution_count": 29,
     "metadata": {},
     "output_type": "execute_result"
    }
   ],
   "source": [
    "data = pd.DataFrame(scaling, columns=['model','scaling', 'data', 'rank'])\n",
    "data.head()"
   ]
  },
  {
   "cell_type": "code",
   "execution_count": 30,
   "metadata": {},
   "outputs": [],
   "source": [
    "from pandas.plotting import parallel_coordinates"
   ]
  },
  {
   "cell_type": "code",
   "execution_count": 31,
   "metadata": {},
   "outputs": [
    {
     "data": {
      "text/html": [
       "<div>\n",
       "<style scoped>\n",
       "    .dataframe tbody tr th:only-of-type {\n",
       "        vertical-align: middle;\n",
       "    }\n",
       "\n",
       "    .dataframe tbody tr th {\n",
       "        vertical-align: top;\n",
       "    }\n",
       "\n",
       "    .dataframe thead tr th {\n",
       "        text-align: left;\n",
       "    }\n",
       "\n",
       "    .dataframe thead tr:last-of-type th {\n",
       "        text-align: right;\n",
       "    }\n",
       "</style>\n",
       "<table border=\"1\" class=\"dataframe\">\n",
       "  <thead>\n",
       "    <tr>\n",
       "      <th></th>\n",
       "      <th></th>\n",
       "      <th colspan=\"6\" halign=\"left\">rank</th>\n",
       "    </tr>\n",
       "    <tr>\n",
       "      <th></th>\n",
       "      <th>data</th>\n",
       "      <th>AMZe</th>\n",
       "      <th>AMZvg</th>\n",
       "      <th>BX</th>\n",
       "      <th>ML10M</th>\n",
       "      <th>ML1M</th>\n",
       "      <th>YaMus</th>\n",
       "    </tr>\n",
       "    <tr>\n",
       "      <th>model</th>\n",
       "      <th>scaling</th>\n",
       "      <th></th>\n",
       "      <th></th>\n",
       "      <th></th>\n",
       "      <th></th>\n",
       "      <th></th>\n",
       "      <th></th>\n",
       "    </tr>\n",
       "  </thead>\n",
       "  <tbody>\n",
       "    <tr>\n",
       "      <th rowspan=\"2\" valign=\"top\">HybridSVD(cs)</th>\n",
       "      <th>False</th>\n",
       "      <td>1750</td>\n",
       "      <td>2000</td>\n",
       "      <td>750</td>\n",
       "      <td>60</td>\n",
       "      <td>5</td>\n",
       "      <td>2500</td>\n",
       "    </tr>\n",
       "    <tr>\n",
       "      <th>True</th>\n",
       "      <td>750</td>\n",
       "      <td>500</td>\n",
       "      <td>500</td>\n",
       "      <td>50</td>\n",
       "      <td>5</td>\n",
       "      <td>2000</td>\n",
       "    </tr>\n",
       "    <tr>\n",
       "      <th rowspan=\"2\" valign=\"top\">PureSVD(cs)</th>\n",
       "      <th>False</th>\n",
       "      <td>2500</td>\n",
       "      <td>3000</td>\n",
       "      <td>400</td>\n",
       "      <td>400</td>\n",
       "      <td>100</td>\n",
       "      <td>2000</td>\n",
       "    </tr>\n",
       "    <tr>\n",
       "      <th>True</th>\n",
       "      <td>300</td>\n",
       "      <td>1500</td>\n",
       "      <td>400</td>\n",
       "      <td>60</td>\n",
       "      <td>30</td>\n",
       "      <td>1250</td>\n",
       "    </tr>\n",
       "  </tbody>\n",
       "</table>\n",
       "</div>"
      ],
      "text/plain": [
       "                       rank                            \n",
       "data                   AMZe AMZvg   BX ML10M ML1M YaMus\n",
       "model         scaling                                  \n",
       "HybridSVD(cs) False    1750  2000  750    60    5  2500\n",
       "              True      750   500  500    50    5  2000\n",
       "PureSVD(cs)   False    2500  3000  400   400  100  2000\n",
       "              True      300  1500  400    60   30  1250"
      ]
     },
     "execution_count": 31,
     "metadata": {},
     "output_type": "execute_result"
    }
   ],
   "source": [
    "data.set_index(['model','scaling','data']).sort_index().unstack('data').head()"
   ]
  },
  {
   "cell_type": "code",
   "execution_count": 32,
   "metadata": {},
   "outputs": [
    {
     "data": {
      "text/plain": [
       "<matplotlib.axes._subplots.AxesSubplot at 0x216c101c828>"
      ]
     },
     "execution_count": 32,
     "metadata": {},
     "output_type": "execute_result"
    },
    {
     "data": {
      "image/png": "[encoded data removed]",
      "text/plain": [
       "<Figure size 432x288 with 1 Axes>"
      ]
     },
     "metadata": {},
     "output_type": "display_data"
    }
   ],
   "source": [
    "parallel_coordinates(data.set_index(['model','scaling','data']).sort_index().unstack('data').loc['HybridSVD(cs)', 'rank'].loc[:, data_labels].reset_index(),\n",
    "                     'scaling', color=colors)\n",
    "parallel_coordinates(data.set_index(['model','scaling','data']).sort_index().unstack('data').loc['PureSVD(cs)', 'rank'].loc[:, data_labels].reset_index(),\n",
    "                     'scaling', color=colors, alpha=0.5)"
   ]
  },
  {
   "cell_type": "code",
   "execution_count": 33,
   "metadata": {},
   "outputs": [
    {
     "data": {
      "text/html": [
       "<div>\n",
       "<style scoped>\n",
       "    .dataframe tbody tr th:only-of-type {\n",
       "        vertical-align: middle;\n",
       "    }\n",
       "\n",
       "    .dataframe tbody tr th {\n",
       "        vertical-align: top;\n",
       "    }\n",
       "\n",
       "    .dataframe thead tr th {\n",
       "        text-align: left;\n",
       "    }\n",
       "\n",
       "    .dataframe thead tr:last-of-type th {\n",
       "        text-align: right;\n",
       "    }\n",
       "</style>\n",
       "<table border=\"1\" class=\"dataframe\">\n",
       "  <thead>\n",
       "    <tr>\n",
       "      <th></th>\n",
       "      <th></th>\n",
       "      <th colspan=\"2\" halign=\"left\">rank</th>\n",
       "    </tr>\n",
       "    <tr>\n",
       "      <th></th>\n",
       "      <th>scaling</th>\n",
       "      <th>False</th>\n",
       "      <th>True</th>\n",
       "    </tr>\n",
       "    <tr>\n",
       "      <th>model</th>\n",
       "      <th>data</th>\n",
       "      <th></th>\n",
       "      <th></th>\n",
       "    </tr>\n",
       "  </thead>\n",
       "  <tbody>\n",
       "    <tr>\n",
       "      <th rowspan=\"5\" valign=\"top\">HybridSVD(cs)</th>\n",
       "      <th>AMZe</th>\n",
       "      <td>1750</td>\n",
       "      <td>750</td>\n",
       "    </tr>\n",
       "    <tr>\n",
       "      <th>AMZvg</th>\n",
       "      <td>2000</td>\n",
       "      <td>500</td>\n",
       "    </tr>\n",
       "    <tr>\n",
       "      <th>BX</th>\n",
       "      <td>750</td>\n",
       "      <td>500</td>\n",
       "    </tr>\n",
       "    <tr>\n",
       "      <th>ML10M</th>\n",
       "      <td>60</td>\n",
       "      <td>50</td>\n",
       "    </tr>\n",
       "    <tr>\n",
       "      <th>ML1M</th>\n",
       "      <td>5</td>\n",
       "      <td>5</td>\n",
       "    </tr>\n",
       "  </tbody>\n",
       "</table>\n",
       "</div>"
      ],
      "text/plain": [
       "                     rank      \n",
       "scaling             False True \n",
       "model         data             \n",
       "HybridSVD(cs) AMZe   1750   750\n",
       "              AMZvg  2000   500\n",
       "              BX      750   500\n",
       "              ML10M    60    50\n",
       "              ML1M      5     5"
      ]
     },
     "execution_count": 33,
     "metadata": {},
     "output_type": "execute_result"
    }
   ],
   "source": [
    "data.set_index(['model','scaling','data']).sort_index().unstack('scaling').head()"
   ]
  },
  {
   "cell_type": "code",
   "execution_count": 34,
   "metadata": {},
   "outputs": [
    {
     "data": {
      "text/plain": [
       "<matplotlib.axes._subplots.AxesSubplot at 0x216c2fd1c18>"
      ]
     },
     "execution_count": 34,
     "metadata": {},
     "output_type": "execute_result"
    },
    {
     "data": {
      "image/png": "[encoded data removed]",
      "text/plain": [
       "<Figure size 432x288 with 1 Axes>"
      ]
     },
     "metadata": {},
     "output_type": "display_data"
    }
   ],
   "source": [
    "parallel_coordinates(data.set_index(['model','scaling','data']).sort_index().unstack('scaling').loc['HybridSVD(cs)', 'rank'].reset_index().dropna(),\n",
    "                     'data', color=colors)\n",
    "parallel_coordinates(data.set_index(['model','scaling','data']).sort_index().unstack('scaling').loc['PureSVD(cs)', 'rank'].reset_index().dropna(),\n",
    "                     'data', color=colors, alpha=0.5)"
   ]
  },
  {
   "cell_type": "code",
   "execution_count": 35,
   "metadata": {},
   "outputs": [
    {
     "data": {
      "text/html": [
       "<div>\n",
       "<style scoped>\n",
       "    .dataframe tbody tr th:only-of-type {\n",
       "        vertical-align: middle;\n",
       "    }\n",
       "\n",
       "    .dataframe tbody tr th {\n",
       "        vertical-align: top;\n",
       "    }\n",
       "\n",
       "    .dataframe thead tr th {\n",
       "        text-align: left;\n",
       "    }\n",
       "\n",
       "    .dataframe thead tr:last-of-type th {\n",
       "        text-align: right;\n",
       "    }\n",
       "</style>\n",
       "<table border=\"1\" class=\"dataframe\">\n",
       "  <thead>\n",
       "    <tr>\n",
       "      <th></th>\n",
       "      <th></th>\n",
       "      <th colspan=\"2\" halign=\"left\">rank</th>\n",
       "    </tr>\n",
       "    <tr>\n",
       "      <th></th>\n",
       "      <th>model</th>\n",
       "      <th>HybridSVD(cs)</th>\n",
       "      <th>PureSVD(cs)</th>\n",
       "    </tr>\n",
       "    <tr>\n",
       "      <th>scaling</th>\n",
       "      <th>data</th>\n",
       "      <th></th>\n",
       "      <th></th>\n",
       "    </tr>\n",
       "  </thead>\n",
       "  <tbody>\n",
       "    <tr>\n",
       "      <th rowspan=\"5\" valign=\"top\">False</th>\n",
       "      <th>AMZe</th>\n",
       "      <td>1750</td>\n",
       "      <td>2500</td>\n",
       "    </tr>\n",
       "    <tr>\n",
       "      <th>AMZvg</th>\n",
       "      <td>2000</td>\n",
       "      <td>3000</td>\n",
       "    </tr>\n",
       "    <tr>\n",
       "      <th>BX</th>\n",
       "      <td>750</td>\n",
       "      <td>400</td>\n",
       "    </tr>\n",
       "    <tr>\n",
       "      <th>ML10M</th>\n",
       "      <td>60</td>\n",
       "      <td>400</td>\n",
       "    </tr>\n",
       "    <tr>\n",
       "      <th>ML1M</th>\n",
       "      <td>5</td>\n",
       "      <td>100</td>\n",
       "    </tr>\n",
       "  </tbody>\n",
       "</table>\n",
       "</div>"
      ],
      "text/plain": [
       "                       rank            \n",
       "model         HybridSVD(cs) PureSVD(cs)\n",
       "scaling data                           \n",
       "False   AMZe           1750        2500\n",
       "        AMZvg          2000        3000\n",
       "        BX              750         400\n",
       "        ML10M            60         400\n",
       "        ML1M              5         100"
      ]
     },
     "execution_count": 35,
     "metadata": {},
     "output_type": "execute_result"
    }
   ],
   "source": [
    "data.set_index(['model','scaling','data']).sort_index().unstack('model').head()"
   ]
  },
  {
   "cell_type": "code",
   "execution_count": null,
   "metadata": {},
   "outputs": [],
   "source": []
  }
 ],
 "metadata": {
  "kernelspec": {
   "display_name": "Python 3",
   "language": "python",
   "name": "python3"
  },
  "language_info": {
   "codemirror_mode": {
    "name": "ipython",
    "version": 3
   },
   "file_extension": ".py",
   "mimetype": "text/x-python",
   "name": "python",
   "nbconvert_exporter": "python",
   "pygments_lexer": "ipython3",
   "version": "3.6.4"
  }
 },
 "nbformat": 4,
 "nbformat_minor": 2
}
